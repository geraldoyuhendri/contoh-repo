{
 "cells": [
  {
   "cell_type": "markdown",
   "metadata": {},
   "source": [
    "# Analisis Data Kelahiran"
   ]
  },
  {
   "cell_type": "markdown",
   "metadata": {},
   "source": [
    "ini merupakan analisis data kelahiran provinsi sumatera selatan tahun 2023"
   ]
  },
  {
   "cell_type": "markdown",
   "metadata": {},
   "source": []
  }
 ],
 "metadata": {
  "language_info": {
   "name": "python"
  },
  "orig_nbformat": 4
 },
 "nbformat": 4,
 "nbformat_minor": 2
}
